{
  "nbformat": 4,
  "nbformat_minor": 0,
  "metadata": {
    "colab": {
      "provenance": [],
      "authorship_tag": "ABX9TyMJI91cpbrN443QC0z95w+3",
      "include_colab_link": true
    },
    "kernelspec": {
      "name": "python3",
      "display_name": "Python 3"
    },
    "language_info": {
      "name": "python"
    }
  },
  "cells": [
    {
      "cell_type": "markdown",
      "metadata": {
        "id": "view-in-github",
        "colab_type": "text"
      },
      "source": [
        "<a href=\"https://colab.research.google.com/github/rogergrajales/Dia_a_dia_con_Python/blob/main/test1.ipynb\" target=\"_parent\"><img src=\"https://colab.research.google.com/assets/colab-badge.svg\" alt=\"Open In Colab\"/></a>"
      ]
    },
    {
      "cell_type": "code",
      "execution_count": null,
      "metadata": {
        "colab": {
          "base_uri": "https://localhost:8080/"
        },
        "id": "tOJSREOFi2TN",
        "outputId": "494cd1c6-e041-4975-b3f4-200d567d18e4"
      },
      "outputs": [
        {
          "output_type": "stream",
          "name": "stdout",
          "text": [
            "Hola Mundo!\n"
          ]
        }
      ],
      "source": [
        "print(\"Hola Mundo!\")"
      ]
    },
    {
      "cell_type": "code",
      "source": [
        "masa = int(input(\"Ingresa tu masa: \"))\n",
        "altura = float(input(\"Ingresa tu altura: \"))\n",
        "\n",
        "imc = masa / (altura * altura)\n",
        "\n",
        "print(\"Tu IMC es de: \",imc)"
      ],
      "metadata": {
        "colab": {
          "base_uri": "https://localhost:8080/"
        },
        "id": "ctBoG1aNkPGq",
        "outputId": "96c750db-6367-4b95-9770-447717d0512b"
      },
      "execution_count": 2,
      "outputs": [
        {
          "output_type": "stream",
          "name": "stdout",
          "text": [
            "Ingresa tu masa: 145\n",
            "Ingresa tu altura: 1.73\n",
            "Tu IMC es de:  48.4479935848174\n"
          ]
        }
      ]
    }
  ]
}